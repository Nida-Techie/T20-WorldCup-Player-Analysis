{
  "nbformat": 4,
  "nbformat_minor": 0,
  "metadata": {
    "colab": {
      "provenance": []
    },
    "kernelspec": {
      "name": "python3",
      "display_name": "Python 3"
    },
    "language_info": {
      "name": "python"
    }
  },
  "cells": [
    {
      "cell_type": "code",
      "execution_count": 1,
      "metadata": {
        "id": "B_UrF3GEPddt"
      },
      "outputs": [],
      "source": [
        "import pandas as pd\n"
      ]
    },
    {
      "cell_type": "code",
      "source": [
        "runs = pd.read_csv(\"Most Runs.csv\")\n",
        "wickets = pd.read_csv(\"Most wickets.csv\")\n",
        "economy = pd.read_csv(\"Best economy rates.csv\")\n",
        "best_figures = pd.read_csv(\"Bowling Best Figures Innings.csv\")\n",
        "strike_rates = pd.read_csv(\"Highest strike rates.csv\")\n"
      ],
      "metadata": {
        "id": "rIVEDO-aP7p6"
      },
      "execution_count": 2,
      "outputs": []
    },
    {
      "cell_type": "code",
      "source": [
        "print(runs.head())\n",
        "print(runs.info())\n"
      ],
      "metadata": {
        "colab": {
          "base_uri": "https://localhost:8080/"
        },
        "id": "aZX5R9VsQXM9",
        "outputId": "a94e75ea-d20a-4551-c392-3cb2af8ed397"
      },
      "execution_count": 3,
      "outputs": [
        {
          "output_type": "stream",
          "name": "stdout",
          "text": [
            "             Player       Span  Mat  Inns NO   Runs   HS    Ave     BF  \\\n",
            "0     V Kohli (IND)  2022-2022  6.0   6.0  3  296.0  82*  98.66  217.0   \n",
            "1   MP O'Dowd (NED)  2022-2022  8.0   8.0  1  242.0  71*  34.57  215.0   \n",
            "2    SA Yadav (IND)  2022-2022  6.0   6.0  2  239.0   68  59.75  126.0   \n",
            "3  JC Buttler (ENG)  2022-2022  6.0   6.0  1  225.0  80*     45  156.0   \n",
            "4   BKG Mendis (SL)  2022-2022  8.0   8.0  1  223.0   79  31.85  156.0   \n",
            "\n",
            "       SR 100 50  0    4s    6s  \n",
            "0  136.40   -  4  -  25.0   8.0  \n",
            "1  112.55   -  2  -  22.0   8.0  \n",
            "2  189.68   -  3  -  26.0   9.0  \n",
            "3  144.23   -  2  1  24.0   7.0  \n",
            "4  142.94   -  2  -  17.0  10.0  \n",
            "<class 'pandas.core.frame.DataFrame'>\n",
            "RangeIndex: 151 entries, 0 to 150\n",
            "Data columns (total 15 columns):\n",
            " #   Column  Non-Null Count  Dtype  \n",
            "---  ------  --------------  -----  \n",
            " 0   Player  151 non-null    object \n",
            " 1   Span    150 non-null    object \n",
            " 2   Mat     150 non-null    float64\n",
            " 3   Inns    150 non-null    float64\n",
            " 4   NO      150 non-null    object \n",
            " 5   Runs    150 non-null    float64\n",
            " 6   HS      150 non-null    object \n",
            " 7   Ave     150 non-null    object \n",
            " 8   BF      150 non-null    float64\n",
            " 9   SR      150 non-null    float64\n",
            " 10  100     150 non-null    object \n",
            " 11  50      150 non-null    object \n",
            " 12  0       150 non-null    object \n",
            " 13  4s      150 non-null    float64\n",
            " 14  6s      150 non-null    float64\n",
            "dtypes: float64(7), object(8)\n",
            "memory usage: 17.8+ KB\n",
            "None\n"
          ]
        }
      ]
    },
    {
      "cell_type": "code",
      "source": [
        "import pandas as pd\n",
        "\n",
        "# 1. Drop useless column\n",
        "runs.drop(columns=[\"Span\"], inplace=True)\n",
        "\n",
        "# 2. Clean Player names (remove country codes inside brackets)\n",
        "runs[\"Player\"] = runs[\"Player\"].str.replace(r\"\\s*\\(.*\\)\", \"\", regex=True).str.strip()\n",
        "\n",
        "# 3. Clean HS column (remove '*')\n",
        "runs[\"HS\"] = runs[\"HS\"].str.replace(\"*\", \"\", regex=False)\n",
        "\n",
        "# 4. Replace '-' with 0 in numeric columns\n",
        "cols_to_clean = [\"NO\", \"Ave\", \"100\", \"50\", \"0\"]\n",
        "for col in cols_to_clean:\n",
        "    runs[col] = runs[col].replace(\"-\", 0)\n",
        "\n",
        "# 5. Convert datatypes\n",
        "numeric_cols = [\"Mat\", \"Inns\", \"NO\", \"Runs\", \"HS\", \"Ave\", \"BF\", \"SR\", \"100\", \"50\", \"0\", \"4s\", \"6s\"]\n",
        "for col in numeric_cols:\n",
        "    runs[col] = pd.to_numeric(runs[col], errors=\"coerce\")\n",
        "\n",
        "# 6. Drop NaN rows if any\n",
        "runs.dropna(inplace=True)\n",
        "\n",
        "# 7. Save cleaned CSV\n",
        "runs.to_csv(\"clean_most_runs.csv\", index=False)\n",
        "\n",
        "print(runs.head())\n",
        "print(runs.dtypes)\n"
      ],
      "metadata": {
        "colab": {
          "base_uri": "https://localhost:8080/"
        },
        "id": "eCyBq-bFQaIn",
        "outputId": "3cb4ea08-f995-4eda-9724-e16fcd2c2ce3"
      },
      "execution_count": 5,
      "outputs": [
        {
          "output_type": "stream",
          "name": "stdout",
          "text": [
            "       Player  Mat  Inns   NO   Runs    HS    Ave     BF      SR  100   50  \\\n",
            "0     V Kohli  6.0   6.0  3.0  296.0  82.0  98.66  217.0  136.40  0.0  4.0   \n",
            "1   MP O'Dowd  8.0   8.0  1.0  242.0  71.0  34.57  215.0  112.55  0.0  2.0   \n",
            "2    SA Yadav  6.0   6.0  2.0  239.0  68.0  59.75  126.0  189.68  0.0  3.0   \n",
            "3  JC Buttler  6.0   6.0  1.0  225.0  80.0  45.00  156.0  144.23  0.0  2.0   \n",
            "4  BKG Mendis  8.0   8.0  1.0  223.0  79.0  31.85  156.0  142.94  0.0  2.0   \n",
            "\n",
            "     0    4s    6s  \n",
            "0  0.0  25.0   8.0  \n",
            "1  0.0  22.0   8.0  \n",
            "2  0.0  26.0   9.0  \n",
            "3  1.0  24.0   7.0  \n",
            "4  0.0  17.0  10.0  \n",
            "Player     object\n",
            "Mat       float64\n",
            "Inns      float64\n",
            "NO        float64\n",
            "Runs      float64\n",
            "HS        float64\n",
            "Ave       float64\n",
            "BF        float64\n",
            "SR        float64\n",
            "100       float64\n",
            "50        float64\n",
            "0         float64\n",
            "4s        float64\n",
            "6s        float64\n",
            "dtype: object\n"
          ]
        }
      ]
    },
    {
      "cell_type": "code",
      "source": [
        "print(wickets.head())\n",
        "print(wickets.info())"
      ],
      "metadata": {
        "colab": {
          "base_uri": "https://localhost:8080/"
        },
        "id": "b3qC_hhSRI0i",
        "outputId": "88cb94cc-07eb-44c8-e42c-4ab59f2c89e1"
      },
      "execution_count": 6,
      "outputs": [
        {
          "output_type": "stream",
          "name": "stdout",
          "text": [
            "               Player       Span  Mat  Inns  Balls  Overs Mdns   Runs  Wkts  \\\n",
            "0   PW Hasaranga (SL)  2022-2022  8.0   8.0  186.0   31.0    1  199.0  15.0   \n",
            "1     SM Curran (ENG)  2022-2022  6.0   6.0  136.0   22.4    -  148.0  13.0   \n",
            "2  BFW de Leede (NED)  2022-2022  8.0   7.0  132.0   22.0    -  169.0  13.0   \n",
            "3  B Muzarabani (ZIM)  2022-2022  8.0   7.0  156.0   26.0    -  199.0  12.0   \n",
            "4       A Nortje (SA)  2022-2022  5.0   5.0  105.0   17.3    -   94.0  11.0   \n",
            "\n",
            "      BBI    Ave  Econ     SR  4  5  \n",
            "0   8-Mar  13.26  6.41  12.40  -  -  \n",
            "1  10-May  11.38  6.52  10.46  -  1  \n",
            "2  19-Mar  13.00  7.68  10.15  -  -  \n",
            "3  23-Mar  16.58  7.65  13.00  -  -  \n",
            "4  10-Apr   8.54  5.37   9.54  2  -  \n",
            "<class 'pandas.core.frame.DataFrame'>\n",
            "RangeIndex: 101 entries, 0 to 100\n",
            "Data columns (total 15 columns):\n",
            " #   Column  Non-Null Count  Dtype  \n",
            "---  ------  --------------  -----  \n",
            " 0   Player  101 non-null    object \n",
            " 1   Span    100 non-null    object \n",
            " 2   Mat     100 non-null    float64\n",
            " 3   Inns    100 non-null    float64\n",
            " 4   Balls   100 non-null    float64\n",
            " 5   Overs   100 non-null    float64\n",
            " 6   Mdns    100 non-null    object \n",
            " 7   Runs    100 non-null    float64\n",
            " 8   Wkts    100 non-null    float64\n",
            " 9   BBI     100 non-null    object \n",
            " 10  Ave     100 non-null    float64\n",
            " 11  Econ    100 non-null    float64\n",
            " 12  SR      100 non-null    float64\n",
            " 13  4       100 non-null    object \n",
            " 14  5       100 non-null    object \n",
            "dtypes: float64(9), object(6)\n",
            "memory usage: 12.0+ KB\n",
            "None\n"
          ]
        }
      ]
    },
    {
      "cell_type": "code",
      "source": [
        "import pandas as pd\n",
        "\n",
        "def clean_most_wickets(input_file, output_file):\n",
        "    # CSV read karo\n",
        "    df = pd.read_csv(input_file)\n",
        "\n",
        "    # Columns strip\n",
        "    df.columns = df.columns.str.strip()\n",
        "\n",
        "    # \"-\" ko NaN bana do\n",
        "    df = df.replace(\"-\", pd.NA)\n",
        "\n",
        "    # Numeric columns convert karo\n",
        "    numeric_cols = [\"Mat\", \"Inns\", \"Balls\", \"Overs\", \"Runs\", \"Wkts\", \"Ave\", \"Econ\", \"SR\", \"4\", \"5\"]\n",
        "    for col in numeric_cols:\n",
        "        df[col] = pd.to_numeric(df[col], errors=\"coerce\")\n",
        "\n",
        "    # BBI (Best Bowling in Innings) ko do parts me split karna (Wickets + Runs)\n",
        "    if \"BBI\" in df.columns:\n",
        "        df[[\"BBI_Wkts\", \"BBI_Runs\"]] = df[\"BBI\"].str.split(\"-\", expand=True)\n",
        "        df[\"BBI_Wkts\"] = pd.to_numeric(df[\"BBI_Wkts\"], errors=\"coerce\")\n",
        "        df[\"BBI_Runs\"] = pd.to_numeric(df[\"BBI_Runs\"], errors=\"coerce\")\n",
        "        df.drop(columns=[\"BBI\"], inplace=True)\n",
        "\n",
        "    # Cleaned CSV save karo\n",
        "    df.to_csv(output_file, index=False)\n",
        "    print(f\"✅ Cleaned file saved as {output_file}\")\n",
        "\n",
        "# Example usage\n",
        "clean_most_wickets(\"Most wickets.csv\", \"Most wickets_Cleaned.csv\")\n"
      ],
      "metadata": {
        "colab": {
          "base_uri": "https://localhost:8080/"
        },
        "id": "TqT6y2MfVYcp",
        "outputId": "9701ecbc-2a6f-4ef5-a095-065faf173dc5"
      },
      "execution_count": 13,
      "outputs": [
        {
          "output_type": "stream",
          "name": "stdout",
          "text": [
            "✅ Cleaned file saved as Most wickets_Cleaned.csv\n"
          ]
        }
      ]
    },
    {
      "cell_type": "code",
      "source": [
        "print(economy.head())\n",
        "print(economy.info())"
      ],
      "metadata": {
        "colab": {
          "base_uri": "https://localhost:8080/"
        },
        "id": "GyEwHxvhTp6Z",
        "outputId": "f1ab048e-6d1e-42d2-dd7a-d00c96a8d18f"
      },
      "execution_count": 8,
      "outputs": [
        {
          "output_type": "stream",
          "name": "stdout",
          "text": [
            "                   Player       Span  Mat  Overs Mdns  Balls  Runs Wkts  \\\n",
            "0       Nasum Ahmed (BAN)  2022-2022  1.0    4.0    -   24.0  14.0    1   \n",
            "1          JO Holder (WI)  2022-2022  3.0   10.2    -   62.0  49.0    5   \n",
            "2       Zahoor Khan (UAE)  2022-2022  3.0   12.0    -   72.0  57.0    5   \n",
            "3  Aayan Afzal Khan (UAE)  2022-2022  3.0    8.0    -   48.0  38.0    2   \n",
            "4        BM Scholtz (NAM)  2022-2022  3.0   12.0    -   72.0  61.0    4   \n",
            "\n",
            "      BBI    Ave  Econ    SR  4  5 10  \n",
            "0  14-Jan     14  3.50    24  -  -  -  \n",
            "1  12-Mar    9.8  4.74  12.4  -  -  -  \n",
            "2  20-Feb   11.4  4.75  14.4  -  -  -  \n",
            "3  15-Jan     19  4.75    24  -  -  -  \n",
            "4  18-Feb  15.25  5.08    18  -  -  -  \n",
            "<class 'pandas.core.frame.DataFrame'>\n",
            "RangeIndex: 101 entries, 0 to 100\n",
            "Data columns (total 15 columns):\n",
            " #   Column  Non-Null Count  Dtype  \n",
            "---  ------  --------------  -----  \n",
            " 0   Player  101 non-null    object \n",
            " 1   Span    100 non-null    object \n",
            " 2   Mat     100 non-null    float64\n",
            " 3   Overs   100 non-null    float64\n",
            " 4   Mdns    100 non-null    object \n",
            " 5   Balls   100 non-null    float64\n",
            " 6   Runs    100 non-null    float64\n",
            " 7   Wkts    100 non-null    object \n",
            " 8   BBI     100 non-null    object \n",
            " 9   Ave     100 non-null    object \n",
            " 10  Econ    100 non-null    float64\n",
            " 11  SR      100 non-null    object \n",
            " 12  4       100 non-null    object \n",
            " 13  5       100 non-null    object \n",
            " 14  10      100 non-null    object \n",
            "dtypes: float64(5), object(10)\n",
            "memory usage: 12.0+ KB\n",
            "None\n"
          ]
        }
      ]
    },
    {
      "cell_type": "code",
      "source": [
        "import pandas as pd\n",
        "\n",
        "def clean_best_economy(input_file, output_file):\n",
        "    # CSV read karo\n",
        "    df = pd.read_csv(input_file)\n",
        "\n",
        "    # Columns strip (extra spaces remove)\n",
        "    df.columns = df.columns.str.strip()\n",
        "\n",
        "    # \"-\" ko NaN bana do\n",
        "    df = df.replace(\"-\", pd.NA)\n",
        "\n",
        "    # Numbers me convert karne ki koshish\n",
        "    numeric_cols = [\"Mat\", \"Overs\", \"Balls\", \"Runs\", \"Wkts\", \"Ave\", \"Econ\", \"SR\", \"4\", \"5\", \"10\"]\n",
        "    for col in numeric_cols:\n",
        "        df[col] = pd.to_numeric(df[col], errors=\"coerce\")\n",
        "\n",
        "    # Clean file save\n",
        "    df.to_csv(output_file, index=False)\n",
        "    print(f\"✅ Cleaned file saved as {output_file}\")\n",
        "\n",
        "# Example usage\n",
        "clean_best_economy(\"Best economy rates.csv\", \"Best economy rates_Cleaned.csv\")\n"
      ],
      "metadata": {
        "colab": {
          "base_uri": "https://localhost:8080/"
        },
        "id": "J5xKNsblUM-W",
        "outputId": "45658cac-37b6-49af-ed18-730398c05bbe"
      },
      "execution_count": 12,
      "outputs": [
        {
          "output_type": "stream",
          "name": "stdout",
          "text": [
            "✅ Cleaned file saved as Best economy rates_Cleaned.csv\n"
          ]
        }
      ]
    },
    {
      "cell_type": "code",
      "source": [
        "print(best_figures.head())\n",
        "print(best_figures.info())"
      ],
      "metadata": {
        "colab": {
          "base_uri": "https://localhost:8080/"
        },
        "id": "sl45PAmcTqHj",
        "outputId": "19492edb-fe51-4e5c-d5bd-7f8588609289"
      },
      "execution_count": 9,
      "outputs": [
        {
          "output_type": "stream",
          "name": "stdout",
          "text": [
            "                Player  Overs Mdns  Runs conceded  Wickets taken  Econ  \\\n",
            "0            SM Curran    3.4    -           10.0            5.0  2.72   \n",
            "1             A Nortje    3.3    -           10.0            4.0  2.85   \n",
            "2             TA Boult    4.0    -           13.0            4.0  3.25   \n",
            "3            AS Joseph    4.0    -           16.0            4.0  4.00   \n",
            "4  Shaheen Shah Afridi    4.0    -           22.0            4.0  5.50   \n",
            "\n",
            "           Team  Innings in match     Opposition    Ground Match Date  \\\n",
            "0       England               1.0  v Afghanistan     Perth  22-Oct-22   \n",
            "1  South Africa               2.0   v Bangladesh    Sydney  27-Oct-22   \n",
            "2   New Zealand               2.0    v Sri Lanka    Sydney  29-Oct-22   \n",
            "3   West Indies               2.0     v Zimbabwe    Hobart  19-Oct-22   \n",
            "4      Pakistan               1.0   v Bangladesh  Adelaide   6-Nov-22   \n",
            "\n",
            "     Scorecard  \n",
            "0  T20I # 1840  \n",
            "1  T20I # 1847  \n",
            "2  T20I # 1850  \n",
            "3  T20I # 1834  \n",
            "4  T20I # 1872  \n",
            "<class 'pandas.core.frame.DataFrame'>\n",
            "RangeIndex: 101 entries, 0 to 100\n",
            "Data columns (total 12 columns):\n",
            " #   Column            Non-Null Count  Dtype  \n",
            "---  ------            --------------  -----  \n",
            " 0   Player            101 non-null    object \n",
            " 1   Overs             100 non-null    float64\n",
            " 2   Mdns              100 non-null    object \n",
            " 3   Runs conceded     100 non-null    float64\n",
            " 4   Wickets taken     100 non-null    float64\n",
            " 5   Econ              100 non-null    float64\n",
            " 6   Team              100 non-null    object \n",
            " 7   Innings in match  100 non-null    float64\n",
            " 8   Opposition        100 non-null    object \n",
            " 9   Ground            100 non-null    object \n",
            " 10  Match Date        100 non-null    object \n",
            " 11  Scorecard         100 non-null    object \n",
            "dtypes: float64(5), object(7)\n",
            "memory usage: 9.6+ KB\n",
            "None\n"
          ]
        }
      ]
    },
    {
      "cell_type": "code",
      "source": [
        "import pandas as pd\n",
        "\n",
        "def clean_best_figures_innings(input_file, output_file):\n",
        "    # CSV read karo\n",
        "    df = pd.read_csv(input_file)\n",
        "\n",
        "    # Columns strip\n",
        "    df.columns = df.columns.str.strip()\n",
        "\n",
        "    # \"-\" ko NaN bana do\n",
        "    df = df.replace(\"-\", pd.NA)\n",
        "\n",
        "    # Numeric columns convert karo\n",
        "    numeric_cols = [\"Overs\", \"Mdns\", \"Runs conceded\", \"Wickets taken\", \"Econ\", \"Innings in match\"]\n",
        "    for col in numeric_cols:\n",
        "        df[col] = pd.to_numeric(df[col], errors=\"coerce\")\n",
        "\n",
        "    # Dates ko proper datetime me convert karo\n",
        "    if \"Match Date\" in df.columns:\n",
        "        df[\"Match Date\"] = pd.to_datetime(df[\"Match Date\"], errors=\"coerce\", format=\"%d-%b-%y\")\n",
        "\n",
        "    # Cleaned CSV save karo\n",
        "    df.to_csv(output_file, index=False)\n",
        "    print(f\"✅ Cleaned file saved as {output_file}\")\n",
        "\n",
        "# Example usage\n",
        "clean_best_figures_innings(\"Bowling Best Figures Innings.csv\", \"Bowling Best Figures Innings_Cleaned.csv\")\n"
      ],
      "metadata": {
        "colab": {
          "base_uri": "https://localhost:8080/"
        },
        "id": "TH1qTMTRVsHx",
        "outputId": "1fd18bc8-78c7-4525-f631-9831a2fc3fa0"
      },
      "execution_count": 14,
      "outputs": [
        {
          "output_type": "stream",
          "name": "stdout",
          "text": [
            "✅ Cleaned file saved as Bowling Best Figures Innings_Cleaned.csv\n"
          ]
        }
      ]
    },
    {
      "cell_type": "code",
      "source": [
        "print(strike_rates.head())\n",
        "print(strike_rates.info())"
      ],
      "metadata": {
        "colab": {
          "base_uri": "https://localhost:8080/"
        },
        "id": "qxWVPo29Tzcl",
        "outputId": "0793ca24-ff7d-4b35-a52a-e3449bd37e81"
      },
      "execution_count": 10,
      "outputs": [
        {
          "output_type": "stream",
          "name": "stdout",
          "text": [
            "              Player       Span  Mat  Inns NO   Runs   HS    Ave     BF  \\\n",
            "0     SA Yadav (IND)  2022-2022  6.0   6.0  2  239.0   68  59.75  126.0   \n",
            "1      FH Allen (NZ)  2022-2022  5.0   5.0  -   95.0   42     19   51.0   \n",
            "2  Rashid Khan (AFG)  2022-2022  3.0   3.0  1   57.0  48*   28.5   32.0   \n",
            "3    RR Rossouw (SA)  2022-2022  5.0   4.0  -  141.0  109  35.25   83.0   \n",
            "4      JJ Smit (NAM)  2022-2022  3.0   3.0  2   39.0  31*     39   23.0   \n",
            "\n",
            "       SR 100 50  0    4s   6s  \n",
            "0  189.68   -  3  -  26.0  9.0  \n",
            "1  186.27   -  -  -  11.0  5.0  \n",
            "2  178.12   -  -  1   4.0  4.0  \n",
            "3  169.87   1  -  1   9.0  9.0  \n",
            "4  169.56   -  -  -   3.0  2.0  \n",
            "<class 'pandas.core.frame.DataFrame'>\n",
            "RangeIndex: 101 entries, 0 to 100\n",
            "Data columns (total 15 columns):\n",
            " #   Column  Non-Null Count  Dtype  \n",
            "---  ------  --------------  -----  \n",
            " 0   Player  101 non-null    object \n",
            " 1   Span    100 non-null    object \n",
            " 2   Mat     100 non-null    float64\n",
            " 3   Inns    100 non-null    float64\n",
            " 4   NO      100 non-null    object \n",
            " 5   Runs    100 non-null    float64\n",
            " 6   HS      100 non-null    object \n",
            " 7   Ave     100 non-null    object \n",
            " 8   BF      100 non-null    float64\n",
            " 9   SR      100 non-null    float64\n",
            " 10  100     100 non-null    object \n",
            " 11  50      100 non-null    object \n",
            " 12  0       100 non-null    object \n",
            " 13  4s      100 non-null    float64\n",
            " 14  6s      100 non-null    float64\n",
            "dtypes: float64(7), object(8)\n",
            "memory usage: 12.0+ KB\n",
            "None\n"
          ]
        }
      ]
    },
    {
      "cell_type": "code",
      "source": [
        "import pandas as pd\n",
        "\n",
        "def clean_highest_strike_rates(input_file, output_file):\n",
        "    # CSV read karo\n",
        "    df = pd.read_csv(input_file)\n",
        "\n",
        "    # Columns strip\n",
        "    df.columns = df.columns.str.strip()\n",
        "\n",
        "    # \"-\" ko NaN bana do\n",
        "    df = df.replace(\"-\", pd.NA)\n",
        "\n",
        "    # HS column me \"*\" remove karo (e.g. 48* → 48)\n",
        "    if \"HS\" in df.columns:\n",
        "        df[\"HS\"] = df[\"HS\"].astype(str).str.replace(\"*\", \"\", regex=False)\n",
        "\n",
        "    # Numeric columns convert karo\n",
        "    numeric_cols = [\"Mat\", \"Inns\", \"NO\", \"Runs\", \"HS\", \"Ave\", \"BF\", \"SR\", \"100\", \"50\", \"0\", \"4s\", \"6s\"]\n",
        "    for col in numeric_cols:\n",
        "        df[col] = pd.to_numeric(df[col], errors=\"coerce\")\n",
        "\n",
        "    # Cleaned file save karo\n",
        "    df.to_csv(output_file, index=False)\n",
        "    print(f\"✅ Cleaned file saved as {output_file}\")\n",
        "\n",
        "# Example usage\n",
        "clean_highest_strike_rates(\"Highest strike rates.csv\", \"Highest strike rates_Cleaned.csv\")\n"
      ],
      "metadata": {
        "colab": {
          "base_uri": "https://localhost:8080/"
        },
        "id": "yoPzCmSLT75k",
        "outputId": "00a09763-e221-42b0-d19f-0ed454895c76"
      },
      "execution_count": 15,
      "outputs": [
        {
          "output_type": "stream",
          "name": "stdout",
          "text": [
            "✅ Cleaned file saved as Highest strike rates_Cleaned.csv\n"
          ]
        }
      ]
    },
    {
      "cell_type": "markdown",
      "source": [
        "**After cleaning all files**"
      ],
      "metadata": {
        "id": "0nuTgGC-Xv_2"
      }
    },
    {
      "cell_type": "code",
      "source": [
        "import pandas as pd\n",
        "\n",
        "# List of cleaned files\n",
        "files = [\n",
        "    \"Best economy rates_Cleaned.csv\",\n",
        "    \"Most wickets_Cleaned.csv\",\n",
        "    \"Bowling Best Figures Innings_Cleaned.csv\",\n",
        "    \"Highest strike rates_Cleaned.csv\",\n",
        "    \"clean_most_runs.csv\"   # Jab ye bhi clean kar logi\n",
        "]\n",
        "# Har file ko read karke show karo\n",
        "for file in files:\n",
        "    print(f\"\\n🔹 Viewing: {file}\\n\")\n",
        "    df = pd.read_csv(file)\n",
        "\n",
        "    # First 5 rows\n",
        "    print(df.head())\n",
        "\n",
        "    # Data types aur null values ka summary\n",
        "    print(\"\\nInfo:\")\n",
        "    print(df.info())\n",
        "    print(\"-\" * 50)\n"
      ],
      "metadata": {
        "colab": {
          "base_uri": "https://localhost:8080/"
        },
        "id": "4d1D-EKIWHra",
        "outputId": "0c393fc6-1c76-4149-99a8-4b66fada4710"
      },
      "execution_count": 17,
      "outputs": [
        {
          "output_type": "stream",
          "name": "stdout",
          "text": [
            "\n",
            "🔹 Viewing: Best economy rates_Cleaned.csv\n",
            "\n",
            "                   Player       Span  Mat  Overs  Mdns  Balls  Runs  Wkts  \\\n",
            "0       Nasum Ahmed (BAN)  2022-2022  1.0    4.0   NaN   24.0  14.0   1.0   \n",
            "1          JO Holder (WI)  2022-2022  3.0   10.2   NaN   62.0  49.0   5.0   \n",
            "2       Zahoor Khan (UAE)  2022-2022  3.0   12.0   NaN   72.0  57.0   5.0   \n",
            "3  Aayan Afzal Khan (UAE)  2022-2022  3.0    8.0   NaN   48.0  38.0   2.0   \n",
            "4        BM Scholtz (NAM)  2022-2022  3.0   12.0   NaN   72.0  61.0   4.0   \n",
            "\n",
            "      BBI    Ave  Econ    SR   4   5  10  \n",
            "0  14-Jan  14.00  3.50  24.0 NaN NaN NaN  \n",
            "1  12-Mar   9.80  4.74  12.4 NaN NaN NaN  \n",
            "2  20-Feb  11.40  4.75  14.4 NaN NaN NaN  \n",
            "3  15-Jan  19.00  4.75  24.0 NaN NaN NaN  \n",
            "4  18-Feb  15.25  5.08  18.0 NaN NaN NaN  \n",
            "\n",
            "Info:\n",
            "<class 'pandas.core.frame.DataFrame'>\n",
            "RangeIndex: 101 entries, 0 to 100\n",
            "Data columns (total 15 columns):\n",
            " #   Column  Non-Null Count  Dtype  \n",
            "---  ------  --------------  -----  \n",
            " 0   Player  101 non-null    object \n",
            " 1   Span    100 non-null    object \n",
            " 2   Mat     100 non-null    float64\n",
            " 3   Overs   100 non-null    float64\n",
            " 4   Mdns    15 non-null     float64\n",
            " 5   Balls   100 non-null    float64\n",
            " 6   Runs    100 non-null    float64\n",
            " 7   Wkts    97 non-null     float64\n",
            " 8   BBI     97 non-null     object \n",
            " 9   Ave     97 non-null     float64\n",
            " 10  Econ    100 non-null    float64\n",
            " 11  SR      97 non-null     float64\n",
            " 12  4       7 non-null      float64\n",
            " 13  5       1 non-null      float64\n",
            " 14  10      0 non-null      float64\n",
            "dtypes: float64(12), object(3)\n",
            "memory usage: 12.0+ KB\n",
            "None\n",
            "--------------------------------------------------\n",
            "\n",
            "🔹 Viewing: Most wickets_Cleaned.csv\n",
            "\n",
            "               Player       Span  Mat  Inns  Balls  Overs  Mdns   Runs  Wkts  \\\n",
            "0   PW Hasaranga (SL)  2022-2022  8.0   8.0  186.0   31.0   1.0  199.0  15.0   \n",
            "1     SM Curran (ENG)  2022-2022  6.0   6.0  136.0   22.4   NaN  148.0  13.0   \n",
            "2  BFW de Leede (NED)  2022-2022  8.0   7.0  132.0   22.0   NaN  169.0  13.0   \n",
            "3  B Muzarabani (ZIM)  2022-2022  8.0   7.0  156.0   26.0   NaN  199.0  12.0   \n",
            "4       A Nortje (SA)  2022-2022  5.0   5.0  105.0   17.3   NaN   94.0  11.0   \n",
            "\n",
            "     Ave  Econ     SR    4    5  BBI_Wkts  BBI_Runs  \n",
            "0  13.26  6.41  12.40  NaN  NaN       8.0       NaN  \n",
            "1  11.38  6.52  10.46  NaN  1.0      10.0       NaN  \n",
            "2  13.00  7.68  10.15  NaN  NaN      19.0       NaN  \n",
            "3  16.58  7.65  13.00  NaN  NaN      23.0       NaN  \n",
            "4   8.54  5.37   9.54  2.0  NaN      10.0       NaN  \n",
            "\n",
            "Info:\n",
            "<class 'pandas.core.frame.DataFrame'>\n",
            "RangeIndex: 101 entries, 0 to 100\n",
            "Data columns (total 16 columns):\n",
            " #   Column    Non-Null Count  Dtype  \n",
            "---  ------    --------------  -----  \n",
            " 0   Player    101 non-null    object \n",
            " 1   Span      100 non-null    object \n",
            " 2   Mat       100 non-null    float64\n",
            " 3   Inns      100 non-null    float64\n",
            " 4   Balls     100 non-null    float64\n",
            " 5   Overs     100 non-null    float64\n",
            " 6   Mdns      15 non-null     float64\n",
            " 7   Runs      100 non-null    float64\n",
            " 8   Wkts      100 non-null    float64\n",
            " 9   Ave       100 non-null    float64\n",
            " 10  Econ      100 non-null    float64\n",
            " 11  SR        100 non-null    float64\n",
            " 12  4         7 non-null      float64\n",
            " 13  5         1 non-null      float64\n",
            " 14  BBI_Wkts  85 non-null     float64\n",
            " 15  BBI_Runs  15 non-null     float64\n",
            "dtypes: float64(14), object(2)\n",
            "memory usage: 12.8+ KB\n",
            "None\n",
            "--------------------------------------------------\n",
            "\n",
            "🔹 Viewing: Bowling Best Figures Innings_Cleaned.csv\n",
            "\n",
            "                Player  Overs  Mdns  Runs conceded  Wickets taken  Econ  \\\n",
            "0            SM Curran    3.4   NaN           10.0            5.0  2.72   \n",
            "1             A Nortje    3.3   NaN           10.0            4.0  2.85   \n",
            "2             TA Boult    4.0   NaN           13.0            4.0  3.25   \n",
            "3            AS Joseph    4.0   NaN           16.0            4.0  4.00   \n",
            "4  Shaheen Shah Afridi    4.0   NaN           22.0            4.0  5.50   \n",
            "\n",
            "           Team  Innings in match     Opposition    Ground  Match Date  \\\n",
            "0       England               1.0  v Afghanistan     Perth  2022-10-22   \n",
            "1  South Africa               2.0   v Bangladesh    Sydney  2022-10-27   \n",
            "2   New Zealand               2.0    v Sri Lanka    Sydney  2022-10-29   \n",
            "3   West Indies               2.0     v Zimbabwe    Hobart  2022-10-19   \n",
            "4      Pakistan               1.0   v Bangladesh  Adelaide  2022-11-06   \n",
            "\n",
            "     Scorecard  \n",
            "0  T20I # 1840  \n",
            "1  T20I # 1847  \n",
            "2  T20I # 1850  \n",
            "3  T20I # 1834  \n",
            "4  T20I # 1872  \n",
            "\n",
            "Info:\n",
            "<class 'pandas.core.frame.DataFrame'>\n",
            "RangeIndex: 101 entries, 0 to 100\n",
            "Data columns (total 12 columns):\n",
            " #   Column            Non-Null Count  Dtype  \n",
            "---  ------            --------------  -----  \n",
            " 0   Player            101 non-null    object \n",
            " 1   Overs             100 non-null    float64\n",
            " 2   Mdns              8 non-null      float64\n",
            " 3   Runs conceded     100 non-null    float64\n",
            " 4   Wickets taken     100 non-null    float64\n",
            " 5   Econ              100 non-null    float64\n",
            " 6   Team              100 non-null    object \n",
            " 7   Innings in match  100 non-null    float64\n",
            " 8   Opposition        100 non-null    object \n",
            " 9   Ground            100 non-null    object \n",
            " 10  Match Date        100 non-null    object \n",
            " 11  Scorecard         100 non-null    object \n",
            "dtypes: float64(6), object(6)\n",
            "memory usage: 9.6+ KB\n",
            "None\n",
            "--------------------------------------------------\n",
            "\n",
            "🔹 Viewing: Highest strike rates_Cleaned.csv\n",
            "\n",
            "              Player       Span  Mat  Inns   NO   Runs     HS    Ave     BF  \\\n",
            "0     SA Yadav (IND)  2022-2022  6.0   6.0  2.0  239.0   68.0  59.75  126.0   \n",
            "1      FH Allen (NZ)  2022-2022  5.0   5.0  NaN   95.0   42.0  19.00   51.0   \n",
            "2  Rashid Khan (AFG)  2022-2022  3.0   3.0  1.0   57.0   48.0  28.50   32.0   \n",
            "3    RR Rossouw (SA)  2022-2022  5.0   4.0  NaN  141.0  109.0  35.25   83.0   \n",
            "4      JJ Smit (NAM)  2022-2022  3.0   3.0  2.0   39.0   31.0  39.00   23.0   \n",
            "\n",
            "       SR  100   50    0    4s   6s  \n",
            "0  189.68  NaN  3.0  NaN  26.0  9.0  \n",
            "1  186.27  NaN  NaN  NaN  11.0  5.0  \n",
            "2  178.12  NaN  NaN  1.0   4.0  4.0  \n",
            "3  169.87  1.0  NaN  1.0   9.0  9.0  \n",
            "4  169.56  NaN  NaN  NaN   3.0  2.0  \n",
            "\n",
            "Info:\n",
            "<class 'pandas.core.frame.DataFrame'>\n",
            "RangeIndex: 101 entries, 0 to 100\n",
            "Data columns (total 15 columns):\n",
            " #   Column  Non-Null Count  Dtype  \n",
            "---  ------  --------------  -----  \n",
            " 0   Player  101 non-null    object \n",
            " 1   Span    100 non-null    object \n",
            " 2   Mat     100 non-null    float64\n",
            " 3   Inns    100 non-null    float64\n",
            " 4   NO      49 non-null     float64\n",
            " 5   Runs    100 non-null    float64\n",
            " 6   HS      100 non-null    float64\n",
            " 7   Ave     99 non-null     float64\n",
            " 8   BF      100 non-null    float64\n",
            " 9   SR      100 non-null    float64\n",
            " 10  100     2 non-null      float64\n",
            " 11  50      42 non-null     float64\n",
            " 12  0       32 non-null     float64\n",
            " 13  4s      100 non-null    float64\n",
            " 14  6s      100 non-null    float64\n",
            "dtypes: float64(13), object(2)\n",
            "memory usage: 12.0+ KB\n",
            "None\n",
            "--------------------------------------------------\n",
            "\n",
            "🔹 Viewing: clean_most_runs.csv\n",
            "\n",
            "       Player  Mat  Inns   NO   Runs    HS    Ave     BF      SR  100   50  \\\n",
            "0     V Kohli  6.0   6.0  3.0  296.0  82.0  98.66  217.0  136.40  0.0  4.0   \n",
            "1   MP O'Dowd  8.0   8.0  1.0  242.0  71.0  34.57  215.0  112.55  0.0  2.0   \n",
            "2    SA Yadav  6.0   6.0  2.0  239.0  68.0  59.75  126.0  189.68  0.0  3.0   \n",
            "3  JC Buttler  6.0   6.0  1.0  225.0  80.0  45.00  156.0  144.23  0.0  2.0   \n",
            "4  BKG Mendis  8.0   8.0  1.0  223.0  79.0  31.85  156.0  142.94  0.0  2.0   \n",
            "\n",
            "     0    4s    6s  \n",
            "0  0.0  25.0   8.0  \n",
            "1  0.0  22.0   8.0  \n",
            "2  0.0  26.0   9.0  \n",
            "3  1.0  24.0   7.0  \n",
            "4  0.0  17.0  10.0  \n",
            "\n",
            "Info:\n",
            "<class 'pandas.core.frame.DataFrame'>\n",
            "RangeIndex: 150 entries, 0 to 149\n",
            "Data columns (total 14 columns):\n",
            " #   Column  Non-Null Count  Dtype  \n",
            "---  ------  --------------  -----  \n",
            " 0   Player  150 non-null    object \n",
            " 1   Mat     150 non-null    float64\n",
            " 2   Inns    150 non-null    float64\n",
            " 3   NO      150 non-null    float64\n",
            " 4   Runs    150 non-null    float64\n",
            " 5   HS      150 non-null    float64\n",
            " 6   Ave     150 non-null    float64\n",
            " 7   BF      150 non-null    float64\n",
            " 8   SR      150 non-null    float64\n",
            " 9   100     150 non-null    float64\n",
            " 10  50      150 non-null    float64\n",
            " 11  0       150 non-null    float64\n",
            " 12  4s      150 non-null    float64\n",
            " 13  6s      150 non-null    float64\n",
            "dtypes: float64(13), object(1)\n",
            "memory usage: 16.5+ KB\n",
            "None\n",
            "--------------------------------------------------\n"
          ]
        }
      ]
    },
    {
      "cell_type": "code",
      "source": [
        "from google.colab import files\n",
        "\n",
        "# Example - download one file\n",
        "files.download(\"Best economy rates_Cleaned.csv\")\n",
        "\n",
        "# Baaki sab files ek ek karke\n",
        "files.download(\"Most wickets_Cleaned.csv\")\n",
        "files.download(\"Bowling Best Figures Innings_Cleaned.csv\")\n",
        "files.download(\"Highest strike rates_Cleaned.csv\")\n",
        "files.download(\"clean_most_runs.csv\")\n"
      ],
      "metadata": {
        "colab": {
          "base_uri": "https://localhost:8080/",
          "height": 17
        },
        "id": "yq79U8VGXBs5",
        "outputId": "157df87b-b577-4d71-acec-56ea9298a04c"
      },
      "execution_count": 19,
      "outputs": [
        {
          "output_type": "display_data",
          "data": {
            "text/plain": [
              "<IPython.core.display.Javascript object>"
            ],
            "application/javascript": [
              "\n",
              "    async function download(id, filename, size) {\n",
              "      if (!google.colab.kernel.accessAllowed) {\n",
              "        return;\n",
              "      }\n",
              "      const div = document.createElement('div');\n",
              "      const label = document.createElement('label');\n",
              "      label.textContent = `Downloading \"${filename}\": `;\n",
              "      div.appendChild(label);\n",
              "      const progress = document.createElement('progress');\n",
              "      progress.max = size;\n",
              "      div.appendChild(progress);\n",
              "      document.body.appendChild(div);\n",
              "\n",
              "      const buffers = [];\n",
              "      let downloaded = 0;\n",
              "\n",
              "      const channel = await google.colab.kernel.comms.open(id);\n",
              "      // Send a message to notify the kernel that we're ready.\n",
              "      channel.send({})\n",
              "\n",
              "      for await (const message of channel.messages) {\n",
              "        // Send a message to notify the kernel that we're ready.\n",
              "        channel.send({})\n",
              "        if (message.buffers) {\n",
              "          for (const buffer of message.buffers) {\n",
              "            buffers.push(buffer);\n",
              "            downloaded += buffer.byteLength;\n",
              "            progress.value = downloaded;\n",
              "          }\n",
              "        }\n",
              "      }\n",
              "      const blob = new Blob(buffers, {type: 'application/binary'});\n",
              "      const a = document.createElement('a');\n",
              "      a.href = window.URL.createObjectURL(blob);\n",
              "      a.download = filename;\n",
              "      div.appendChild(a);\n",
              "      a.click();\n",
              "      div.remove();\n",
              "    }\n",
              "  "
            ]
          },
          "metadata": {}
        },
        {
          "output_type": "display_data",
          "data": {
            "text/plain": [
              "<IPython.core.display.Javascript object>"
            ],
            "application/javascript": [
              "download(\"download_0ec352fd-32f2-4438-bfe0-4dc2399f7164\", \"Best economy rates_Cleaned.csv\", 7867)"
            ]
          },
          "metadata": {}
        },
        {
          "output_type": "display_data",
          "data": {
            "text/plain": [
              "<IPython.core.display.Javascript object>"
            ],
            "application/javascript": [
              "\n",
              "    async function download(id, filename, size) {\n",
              "      if (!google.colab.kernel.accessAllowed) {\n",
              "        return;\n",
              "      }\n",
              "      const div = document.createElement('div');\n",
              "      const label = document.createElement('label');\n",
              "      label.textContent = `Downloading \"${filename}\": `;\n",
              "      div.appendChild(label);\n",
              "      const progress = document.createElement('progress');\n",
              "      progress.max = size;\n",
              "      div.appendChild(progress);\n",
              "      document.body.appendChild(div);\n",
              "\n",
              "      const buffers = [];\n",
              "      let downloaded = 0;\n",
              "\n",
              "      const channel = await google.colab.kernel.comms.open(id);\n",
              "      // Send a message to notify the kernel that we're ready.\n",
              "      channel.send({})\n",
              "\n",
              "      for await (const message of channel.messages) {\n",
              "        // Send a message to notify the kernel that we're ready.\n",
              "        channel.send({})\n",
              "        if (message.buffers) {\n",
              "          for (const buffer of message.buffers) {\n",
              "            buffers.push(buffer);\n",
              "            downloaded += buffer.byteLength;\n",
              "            progress.value = downloaded;\n",
              "          }\n",
              "        }\n",
              "      }\n",
              "      const blob = new Blob(buffers, {type: 'application/binary'});\n",
              "      const a = document.createElement('a');\n",
              "      a.href = window.URL.createObjectURL(blob);\n",
              "      a.download = filename;\n",
              "      div.appendChild(a);\n",
              "      a.click();\n",
              "      div.remove();\n",
              "    }\n",
              "  "
            ]
          },
          "metadata": {}
        },
        {
          "output_type": "display_data",
          "data": {
            "text/plain": [
              "<IPython.core.display.Javascript object>"
            ],
            "application/javascript": [
              "download(\"download_8f9c116e-f791-4593-9b57-3e8613b11817\", \"Most wickets_Cleaned.csv\", 8152)"
            ]
          },
          "metadata": {}
        },
        {
          "output_type": "display_data",
          "data": {
            "text/plain": [
              "<IPython.core.display.Javascript object>"
            ],
            "application/javascript": [
              "\n",
              "    async function download(id, filename, size) {\n",
              "      if (!google.colab.kernel.accessAllowed) {\n",
              "        return;\n",
              "      }\n",
              "      const div = document.createElement('div');\n",
              "      const label = document.createElement('label');\n",
              "      label.textContent = `Downloading \"${filename}\": `;\n",
              "      div.appendChild(label);\n",
              "      const progress = document.createElement('progress');\n",
              "      progress.max = size;\n",
              "      div.appendChild(progress);\n",
              "      document.body.appendChild(div);\n",
              "\n",
              "      const buffers = [];\n",
              "      let downloaded = 0;\n",
              "\n",
              "      const channel = await google.colab.kernel.comms.open(id);\n",
              "      // Send a message to notify the kernel that we're ready.\n",
              "      channel.send({})\n",
              "\n",
              "      for await (const message of channel.messages) {\n",
              "        // Send a message to notify the kernel that we're ready.\n",
              "        channel.send({})\n",
              "        if (message.buffers) {\n",
              "          for (const buffer of message.buffers) {\n",
              "            buffers.push(buffer);\n",
              "            downloaded += buffer.byteLength;\n",
              "            progress.value = downloaded;\n",
              "          }\n",
              "        }\n",
              "      }\n",
              "      const blob = new Blob(buffers, {type: 'application/binary'});\n",
              "      const a = document.createElement('a');\n",
              "      a.href = window.URL.createObjectURL(blob);\n",
              "      a.download = filename;\n",
              "      div.appendChild(a);\n",
              "      a.click();\n",
              "      div.remove();\n",
              "    }\n",
              "  "
            ]
          },
          "metadata": {}
        },
        {
          "output_type": "display_data",
          "data": {
            "text/plain": [
              "<IPython.core.display.Javascript object>"
            ],
            "application/javascript": [
              "download(\"download_b9daddce-7103-4bf6-a26a-ddca562bbfe4\", \"Bowling Best Figures Innings_Cleaned.csv\", 8839)"
            ]
          },
          "metadata": {}
        },
        {
          "output_type": "display_data",
          "data": {
            "text/plain": [
              "<IPython.core.display.Javascript object>"
            ],
            "application/javascript": [
              "\n",
              "    async function download(id, filename, size) {\n",
              "      if (!google.colab.kernel.accessAllowed) {\n",
              "        return;\n",
              "      }\n",
              "      const div = document.createElement('div');\n",
              "      const label = document.createElement('label');\n",
              "      label.textContent = `Downloading \"${filename}\": `;\n",
              "      div.appendChild(label);\n",
              "      const progress = document.createElement('progress');\n",
              "      progress.max = size;\n",
              "      div.appendChild(progress);\n",
              "      document.body.appendChild(div);\n",
              "\n",
              "      const buffers = [];\n",
              "      let downloaded = 0;\n",
              "\n",
              "      const channel = await google.colab.kernel.comms.open(id);\n",
              "      // Send a message to notify the kernel that we're ready.\n",
              "      channel.send({})\n",
              "\n",
              "      for await (const message of channel.messages) {\n",
              "        // Send a message to notify the kernel that we're ready.\n",
              "        channel.send({})\n",
              "        if (message.buffers) {\n",
              "          for (const buffer of message.buffers) {\n",
              "            buffers.push(buffer);\n",
              "            downloaded += buffer.byteLength;\n",
              "            progress.value = downloaded;\n",
              "          }\n",
              "        }\n",
              "      }\n",
              "      const blob = new Blob(buffers, {type: 'application/binary'});\n",
              "      const a = document.createElement('a');\n",
              "      a.href = window.URL.createObjectURL(blob);\n",
              "      a.download = filename;\n",
              "      div.appendChild(a);\n",
              "      a.click();\n",
              "      div.remove();\n",
              "    }\n",
              "  "
            ]
          },
          "metadata": {}
        },
        {
          "output_type": "display_data",
          "data": {
            "text/plain": [
              "<IPython.core.display.Javascript object>"
            ],
            "application/javascript": [
              "download(\"download_98894cfd-951b-4ee9-87d9-fc75447d1973\", \"Highest strike rates_Cleaned.csv\", 8074)"
            ]
          },
          "metadata": {}
        },
        {
          "output_type": "display_data",
          "data": {
            "text/plain": [
              "<IPython.core.display.Javascript object>"
            ],
            "application/javascript": [
              "\n",
              "    async function download(id, filename, size) {\n",
              "      if (!google.colab.kernel.accessAllowed) {\n",
              "        return;\n",
              "      }\n",
              "      const div = document.createElement('div');\n",
              "      const label = document.createElement('label');\n",
              "      label.textContent = `Downloading \"${filename}\": `;\n",
              "      div.appendChild(label);\n",
              "      const progress = document.createElement('progress');\n",
              "      progress.max = size;\n",
              "      div.appendChild(progress);\n",
              "      document.body.appendChild(div);\n",
              "\n",
              "      const buffers = [];\n",
              "      let downloaded = 0;\n",
              "\n",
              "      const channel = await google.colab.kernel.comms.open(id);\n",
              "      // Send a message to notify the kernel that we're ready.\n",
              "      channel.send({})\n",
              "\n",
              "      for await (const message of channel.messages) {\n",
              "        // Send a message to notify the kernel that we're ready.\n",
              "        channel.send({})\n",
              "        if (message.buffers) {\n",
              "          for (const buffer of message.buffers) {\n",
              "            buffers.push(buffer);\n",
              "            downloaded += buffer.byteLength;\n",
              "            progress.value = downloaded;\n",
              "          }\n",
              "        }\n",
              "      }\n",
              "      const blob = new Blob(buffers, {type: 'application/binary'});\n",
              "      const a = document.createElement('a');\n",
              "      a.href = window.URL.createObjectURL(blob);\n",
              "      a.download = filename;\n",
              "      div.appendChild(a);\n",
              "      a.click();\n",
              "      div.remove();\n",
              "    }\n",
              "  "
            ]
          },
          "metadata": {}
        },
        {
          "output_type": "display_data",
          "data": {
            "text/plain": [
              "<IPython.core.display.Javascript object>"
            ],
            "application/javascript": [
              "download(\"download_222afa44-d02c-4f84-b5bb-465eb19b2ede\", \"clean_most_runs.csv\", 10694)"
            ]
          },
          "metadata": {}
        }
      ]
    },
    {
      "cell_type": "code",
      "source": [],
      "metadata": {
        "id": "auy0hsFjYU-M"
      },
      "execution_count": null,
      "outputs": []
    }
  ]
}